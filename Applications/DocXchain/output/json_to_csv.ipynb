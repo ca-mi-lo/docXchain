{
 "cells": [
  {
   "cell_type": "markdown",
   "metadata": {},
   "source": [
    "### This notebook helps to do 3 things:\n",
    "- Paso 1: Excecute the docXChain to process a pdf into JSON (semi-parametrizado)\n",
    "- Paso 2: Convert Json into DataFrame\n",
    "- Pas 3: DataFrame to Document"
   ]
  },
  {
   "cell_type": "code",
   "execution_count": 16,
   "metadata": {},
   "outputs": [
    {
     "ename": "KeyboardInterrupt",
     "evalue": "",
     "output_type": "error",
     "traceback": [
      "\u001b[0;31m---------------------------------------------------------------------------\u001b[0m",
      "\u001b[0;31mKeyboardInterrupt\u001b[0m                         Traceback (most recent call last)",
      "Cell \u001b[0;32mIn[16], line 14\u001b[0m\n\u001b[1;32m     12\u001b[0m args \u001b[38;5;241m=\u001b[39m [\u001b[38;5;124m\"\u001b[39m\u001b[38;5;124mpython\u001b[39m\u001b[38;5;124m\"\u001b[39m, path_to_docXchain\u001b[38;5;241m+\u001b[39m\u001b[38;5;124m\"\u001b[39m\u001b[38;5;124mexample.py\u001b[39m\u001b[38;5;124m\"\u001b[39m, arg1_fun, path_to_pdfs\u001b[38;5;241m+\u001b[39mspecies_folder\u001b[38;5;241m+\u001b[39marg2_input, path_to_docXchain\u001b[38;5;241m+\u001b[39m\u001b[38;5;124m\"\u001b[39m\u001b[38;5;124moutput/\u001b[39m\u001b[38;5;124m\"\u001b[39m\u001b[38;5;241m+\u001b[39marg3_output]\n\u001b[1;32m     13\u001b[0m \u001b[38;5;66;03m#args = [\"python\", \"-c\", f\"import example; example.whole_pdf_conversion('{path_to_pdfs+species_folder+arg2_input}', '{path_to_docXchain+'output/'+arg3_output}')\"]\u001b[39;00m\n\u001b[0;32m---> 14\u001b[0m result \u001b[38;5;241m=\u001b[39m \u001b[43msubprocess\u001b[49m\u001b[38;5;241;43m.\u001b[39;49m\u001b[43mrun\u001b[49m\u001b[43m(\u001b[49m\u001b[43margs\u001b[49m\u001b[43m,\u001b[49m\u001b[43m \u001b[49m\u001b[43mcapture_output\u001b[49m\u001b[38;5;241;43m=\u001b[39;49m\u001b[38;5;28;43;01mTrue\u001b[39;49;00m\u001b[43m,\u001b[49m\u001b[43m \u001b[49m\u001b[43mtext\u001b[49m\u001b[38;5;241;43m=\u001b[39;49m\u001b[38;5;28;43;01mTrue\u001b[39;49;00m\u001b[43m)\u001b[49m\n\u001b[1;32m     16\u001b[0m \u001b[38;5;28mprint\u001b[39m(result\u001b[38;5;241m.\u001b[39mstdout)\n\u001b[1;32m     17\u001b[0m \u001b[38;5;28mprint\u001b[39m(result\u001b[38;5;241m.\u001b[39mstderr)\n",
      "File \u001b[0;32m/usr/lib/python3.10/subprocess.py:505\u001b[0m, in \u001b[0;36mrun\u001b[0;34m(input, capture_output, timeout, check, *popenargs, **kwargs)\u001b[0m\n\u001b[1;32m    503\u001b[0m \u001b[38;5;28;01mwith\u001b[39;00m Popen(\u001b[38;5;241m*\u001b[39mpopenargs, \u001b[38;5;241m*\u001b[39m\u001b[38;5;241m*\u001b[39mkwargs) \u001b[38;5;28;01mas\u001b[39;00m process:\n\u001b[1;32m    504\u001b[0m     \u001b[38;5;28;01mtry\u001b[39;00m:\n\u001b[0;32m--> 505\u001b[0m         stdout, stderr \u001b[38;5;241m=\u001b[39m \u001b[43mprocess\u001b[49m\u001b[38;5;241;43m.\u001b[39;49m\u001b[43mcommunicate\u001b[49m\u001b[43m(\u001b[49m\u001b[38;5;28;43minput\u001b[39;49m\u001b[43m,\u001b[49m\u001b[43m \u001b[49m\u001b[43mtimeout\u001b[49m\u001b[38;5;241;43m=\u001b[39;49m\u001b[43mtimeout\u001b[49m\u001b[43m)\u001b[49m\n\u001b[1;32m    506\u001b[0m     \u001b[38;5;28;01mexcept\u001b[39;00m TimeoutExpired \u001b[38;5;28;01mas\u001b[39;00m exc:\n\u001b[1;32m    507\u001b[0m         process\u001b[38;5;241m.\u001b[39mkill()\n",
      "File \u001b[0;32m/usr/lib/python3.10/subprocess.py:1154\u001b[0m, in \u001b[0;36mPopen.communicate\u001b[0;34m(self, input, timeout)\u001b[0m\n\u001b[1;32m   1151\u001b[0m     endtime \u001b[38;5;241m=\u001b[39m \u001b[38;5;28;01mNone\u001b[39;00m\n\u001b[1;32m   1153\u001b[0m \u001b[38;5;28;01mtry\u001b[39;00m:\n\u001b[0;32m-> 1154\u001b[0m     stdout, stderr \u001b[38;5;241m=\u001b[39m \u001b[38;5;28;43mself\u001b[39;49m\u001b[38;5;241;43m.\u001b[39;49m\u001b[43m_communicate\u001b[49m\u001b[43m(\u001b[49m\u001b[38;5;28;43minput\u001b[39;49m\u001b[43m,\u001b[49m\u001b[43m \u001b[49m\u001b[43mendtime\u001b[49m\u001b[43m,\u001b[49m\u001b[43m \u001b[49m\u001b[43mtimeout\u001b[49m\u001b[43m)\u001b[49m\n\u001b[1;32m   1155\u001b[0m \u001b[38;5;28;01mexcept\u001b[39;00m \u001b[38;5;167;01mKeyboardInterrupt\u001b[39;00m:\n\u001b[1;32m   1156\u001b[0m     \u001b[38;5;66;03m# https://bugs.python.org/issue25942\u001b[39;00m\n\u001b[1;32m   1157\u001b[0m     \u001b[38;5;66;03m# See the detailed comment in .wait().\u001b[39;00m\n\u001b[1;32m   1158\u001b[0m     \u001b[38;5;28;01mif\u001b[39;00m timeout \u001b[38;5;129;01mis\u001b[39;00m \u001b[38;5;129;01mnot\u001b[39;00m \u001b[38;5;28;01mNone\u001b[39;00m:\n",
      "File \u001b[0;32m/usr/lib/python3.10/subprocess.py:2021\u001b[0m, in \u001b[0;36mPopen._communicate\u001b[0;34m(self, input, endtime, orig_timeout)\u001b[0m\n\u001b[1;32m   2014\u001b[0m     \u001b[38;5;28mself\u001b[39m\u001b[38;5;241m.\u001b[39m_check_timeout(endtime, orig_timeout,\n\u001b[1;32m   2015\u001b[0m                         stdout, stderr,\n\u001b[1;32m   2016\u001b[0m                         skip_check_and_raise\u001b[38;5;241m=\u001b[39m\u001b[38;5;28;01mTrue\u001b[39;00m)\n\u001b[1;32m   2017\u001b[0m     \u001b[38;5;28;01mraise\u001b[39;00m \u001b[38;5;167;01mRuntimeError\u001b[39;00m(  \u001b[38;5;66;03m# Impossible :)\u001b[39;00m\n\u001b[1;32m   2018\u001b[0m         \u001b[38;5;124m'\u001b[39m\u001b[38;5;124m_check_timeout(..., skip_check_and_raise=True) \u001b[39m\u001b[38;5;124m'\u001b[39m\n\u001b[1;32m   2019\u001b[0m         \u001b[38;5;124m'\u001b[39m\u001b[38;5;124mfailed to raise TimeoutExpired.\u001b[39m\u001b[38;5;124m'\u001b[39m)\n\u001b[0;32m-> 2021\u001b[0m ready \u001b[38;5;241m=\u001b[39m \u001b[43mselector\u001b[49m\u001b[38;5;241;43m.\u001b[39;49m\u001b[43mselect\u001b[49m\u001b[43m(\u001b[49m\u001b[43mtimeout\u001b[49m\u001b[43m)\u001b[49m\n\u001b[1;32m   2022\u001b[0m \u001b[38;5;28mself\u001b[39m\u001b[38;5;241m.\u001b[39m_check_timeout(endtime, orig_timeout, stdout, stderr)\n\u001b[1;32m   2024\u001b[0m \u001b[38;5;66;03m# XXX Rewrite these to use non-blocking I/O on the file\u001b[39;00m\n\u001b[1;32m   2025\u001b[0m \u001b[38;5;66;03m# objects; they are no longer using C stdio!\u001b[39;00m\n",
      "File \u001b[0;32m/usr/lib/python3.10/selectors.py:416\u001b[0m, in \u001b[0;36m_PollLikeSelector.select\u001b[0;34m(self, timeout)\u001b[0m\n\u001b[1;32m    414\u001b[0m ready \u001b[38;5;241m=\u001b[39m []\n\u001b[1;32m    415\u001b[0m \u001b[38;5;28;01mtry\u001b[39;00m:\n\u001b[0;32m--> 416\u001b[0m     fd_event_list \u001b[38;5;241m=\u001b[39m \u001b[38;5;28;43mself\u001b[39;49m\u001b[38;5;241;43m.\u001b[39;49m\u001b[43m_selector\u001b[49m\u001b[38;5;241;43m.\u001b[39;49m\u001b[43mpoll\u001b[49m\u001b[43m(\u001b[49m\u001b[43mtimeout\u001b[49m\u001b[43m)\u001b[49m\n\u001b[1;32m    417\u001b[0m \u001b[38;5;28;01mexcept\u001b[39;00m \u001b[38;5;167;01mInterruptedError\u001b[39;00m:\n\u001b[1;32m    418\u001b[0m     \u001b[38;5;28;01mreturn\u001b[39;00m ready\n",
      "\u001b[0;31mKeyboardInterrupt\u001b[0m: "
     ]
    }
   ],
   "source": [
    "#- Paso 1: Exe DocXChain\n",
    "import subprocess\n",
    "\n",
    "path_to_docXchain = \"/home/camilo/Documents/01-tutoriales/docxchain/Applications/DocXchain/\"\n",
    "path_to_pdfs = \"/home/camilo/Documents/by_species/\"\n",
    "species_folder = \"Leptonycteris/\"\n",
    "arg1_fun = \"whole_pdf_conversion\"\n",
    "arg2_input = \"Gómez-Ruiz et al., 2015.pdf\"\n",
    "arg3_output = \"Gómez-Ruiz et al., 2015.json\"\n",
    "#Hensley_test.json\"\n",
    "\n",
    "args = [\"python\", path_to_docXchain+\"example.py\", arg1_fun, path_to_pdfs+species_folder+arg2_input, path_to_docXchain+\"output/\"+arg3_output]\n",
    "#args = [\"python\", \"-c\", f\"import example; example.whole_pdf_conversion('{path_to_pdfs+species_folder+arg2_input}', '{path_to_docXchain+'output/'+arg3_output}')\"]\n",
    "result = subprocess.run(args, capture_output=True, text=True)\n",
    "\n",
    "print(result.stdout)\n",
    "print(result.stderr)"
   ]
  },
  {
   "cell_type": "markdown",
   "metadata": {},
   "source": [
    "### - Paso 2: Convert Json into csv"
   ]
  },
  {
   "cell_type": "code",
   "execution_count": 23,
   "metadata": {},
   "outputs": [
    {
     "name": "stdout",
     "output_type": "stream",
     "text": [
      "dict_keys(['page', 'information'])\n"
     ]
    }
   ],
   "source": [
    "import pandas as pd\n",
    "import json\n",
    "file_name = path_to_docXchain+\"output/\"+arg3_output\n",
    "#file_name = \"test_no-image.json\"\n",
    "\n",
    "with open(file_name, 'r') as f:\n",
    "    data = json.load(f)\n",
    "print(data[0].keys())"
   ]
  },
  {
   "cell_type": "code",
   "execution_count": 24,
   "metadata": {},
   "outputs": [
    {
     "name": "stdout",
     "output_type": "stream",
     "text": [
      "information\n",
      "text_list\n"
     ]
    },
    {
     "data": {
      "text/html": [
       "<div>\n",
       "<style scoped>\n",
       "    .dataframe tbody tr th:only-of-type {\n",
       "        vertical-align: middle;\n",
       "    }\n",
       "\n",
       "    .dataframe tbody tr th {\n",
       "        vertical-align: top;\n",
       "    }\n",
       "\n",
       "    .dataframe thead th {\n",
       "        text-align: right;\n",
       "    }\n",
       "</style>\n",
       "<table border=\"1\" class=\"dataframe\">\n",
       "  <thead>\n",
       "    <tr style=\"text-align: right;\">\n",
       "      <th></th>\n",
       "      <th>page</th>\n",
       "      <th>category_index</th>\n",
       "      <th>category_name</th>\n",
       "      <th>region_poly</th>\n",
       "      <th>position</th>\n",
       "      <th>content</th>\n",
       "      <th>0</th>\n",
       "    </tr>\n",
       "  </thead>\n",
       "  <tbody>\n",
       "    <tr>\n",
       "      <th>0</th>\n",
       "      <td>0</td>\n",
       "      <td>0</td>\n",
       "      <td>title</td>\n",
       "      <td>[152, 303, 1162, 303, 1162, 431, 152, 431]</td>\n",
       "      <td>[215, 300, 1153, 303, 1153, 334, 215, 331]</td>\n",
       "      <td>[Conservacion de murcielagos nectarivoros]</td>\n",
       "      <td>NaN</td>\n",
       "    </tr>\n",
       "    <tr>\n",
       "      <th>1</th>\n",
       "      <td>0</td>\n",
       "      <td>0</td>\n",
       "      <td>title</td>\n",
       "      <td>[152, 303, 1162, 303, 1162, 431, 152, 431]</td>\n",
       "      <td>[157, 351, 1155, 348, 1155, 383, 157, 385]</td>\n",
       "      <td>[Phyllostomidae: Glossophagini) en riesgo en]</td>\n",
       "      <td>NaN</td>\n",
       "    </tr>\n",
       "    <tr>\n",
       "      <th>2</th>\n",
       "      <td>0</td>\n",
       "      <td>0</td>\n",
       "      <td>title</td>\n",
       "      <td>[152, 303, 1162, 303, 1162, 431, 152, 431]</td>\n",
       "      <td>[648, 401, 1149, 400, 1149, 434, 648, 434]</td>\n",
       "      <td>[CoahuilayNuevo Leon]</td>\n",
       "      <td>NaN</td>\n",
       "    </tr>\n",
       "    <tr>\n",
       "      <th>3</th>\n",
       "      <td>0</td>\n",
       "      <td>2</td>\n",
       "      <td>plain text</td>\n",
       "      <td>[207, 1125, 1099, 1125, 1099, 1235, 207, 1235]</td>\n",
       "      <td>[233, 1123, 1095, 1122, 1096, 1139, 233, 1141]</td>\n",
       "      <td>[Results: We report six caves used by nectar-f...</td>\n",
       "      <td>NaN</td>\n",
       "    </tr>\n",
       "    <tr>\n",
       "      <th>4</th>\n",
       "      <td>0</td>\n",
       "      <td>2</td>\n",
       "      <td>plain text</td>\n",
       "      <td>[207, 1125, 1099, 1125, 1099, 1235, 207, 1235]</td>\n",
       "      <td>[204, 1146, 1094, 1147, 1094, 1163, 204, 1163]</td>\n",
       "      <td>[The community-based conservation strateqies t...</td>\n",
       "      <td>NaN</td>\n",
       "    </tr>\n",
       "    <tr>\n",
       "      <th>...</th>\n",
       "      <td>...</td>\n",
       "      <td>...</td>\n",
       "      <td>...</td>\n",
       "      <td>...</td>\n",
       "      <td>...</td>\n",
       "      <td>...</td>\n",
       "      <td>...</td>\n",
       "    </tr>\n",
       "    <tr>\n",
       "      <th>677</th>\n",
       "      <td>12</td>\n",
       "      <td>2</td>\n",
       "      <td>plain text</td>\n",
       "      <td>[299, 1229, 539, 1229, 539, 1253, 299, 1253]</td>\n",
       "      <td>[296, 1230, 350, 1231, 350, 1251, 296, 1251]</td>\n",
       "      <td>[b) No]</td>\n",
       "      <td>NaN</td>\n",
       "    </tr>\n",
       "    <tr>\n",
       "      <th>678</th>\n",
       "      <td>12</td>\n",
       "      <td>2</td>\n",
       "      <td>plain text</td>\n",
       "      <td>[300, 387, 505, 387, 505, 415, 300, 415]</td>\n",
       "      <td>[296, 389, 376, 389, 376, 409, 296, 409]</td>\n",
       "      <td>[b). No sé]</td>\n",
       "      <td>NaN</td>\n",
       "    </tr>\n",
       "    <tr>\n",
       "      <th>679</th>\n",
       "      <td>12</td>\n",
       "      <td>3</td>\n",
       "      <td>header</td>\n",
       "      <td>[986, 58, 1135, 58, 1135, 76, 986, 76]</td>\n",
       "      <td>[985, 55, 1131, 55, 1131, 74, 985, 74]</td>\n",
       "      <td>[Gomez-Ruiz et al.]</td>\n",
       "      <td>NaN</td>\n",
       "    </tr>\n",
       "    <tr>\n",
       "      <th>680</th>\n",
       "      <td>12</td>\n",
       "      <td>4</td>\n",
       "      <td>page number</td>\n",
       "      <td>[1123, 1559, 1156, 1559, 1156, 1577, 1123, 1577]</td>\n",
       "      <td>[1107, 1557, 1151, 1557, 1151, 1576, 1107, 1575]</td>\n",
       "      <td>[101]</td>\n",
       "      <td>NaN</td>\n",
       "    </tr>\n",
       "    <tr>\n",
       "      <th>681</th>\n",
       "      <td>12</td>\n",
       "      <td>6</td>\n",
       "      <td>footer</td>\n",
       "      <td>[873, 1558, 1102, 1558, 1102, 1574, 873, 1574]</td>\n",
       "      <td>[867, 1557, 1109, 1558, 1109, 1573, 867, 1572]</td>\n",
       "      <td>[www.mastozoologiamexicana.org]</td>\n",
       "      <td>NaN</td>\n",
       "    </tr>\n",
       "  </tbody>\n",
       "</table>\n",
       "<p>682 rows × 7 columns</p>\n",
       "</div>"
      ],
      "text/plain": [
       "     page  category_index category_name  \\\n",
       "0       0               0         title   \n",
       "1       0               0         title   \n",
       "2       0               0         title   \n",
       "3       0               2    plain text   \n",
       "4       0               2    plain text   \n",
       "..    ...             ...           ...   \n",
       "677    12               2    plain text   \n",
       "678    12               2    plain text   \n",
       "679    12               3        header   \n",
       "680    12               4   page number   \n",
       "681    12               6        footer   \n",
       "\n",
       "                                          region_poly  \\\n",
       "0          [152, 303, 1162, 303, 1162, 431, 152, 431]   \n",
       "1          [152, 303, 1162, 303, 1162, 431, 152, 431]   \n",
       "2          [152, 303, 1162, 303, 1162, 431, 152, 431]   \n",
       "3      [207, 1125, 1099, 1125, 1099, 1235, 207, 1235]   \n",
       "4      [207, 1125, 1099, 1125, 1099, 1235, 207, 1235]   \n",
       "..                                                ...   \n",
       "677      [299, 1229, 539, 1229, 539, 1253, 299, 1253]   \n",
       "678          [300, 387, 505, 387, 505, 415, 300, 415]   \n",
       "679            [986, 58, 1135, 58, 1135, 76, 986, 76]   \n",
       "680  [1123, 1559, 1156, 1559, 1156, 1577, 1123, 1577]   \n",
       "681    [873, 1558, 1102, 1558, 1102, 1574, 873, 1574]   \n",
       "\n",
       "                                             position  \\\n",
       "0          [215, 300, 1153, 303, 1153, 334, 215, 331]   \n",
       "1          [157, 351, 1155, 348, 1155, 383, 157, 385]   \n",
       "2          [648, 401, 1149, 400, 1149, 434, 648, 434]   \n",
       "3      [233, 1123, 1095, 1122, 1096, 1139, 233, 1141]   \n",
       "4      [204, 1146, 1094, 1147, 1094, 1163, 204, 1163]   \n",
       "..                                                ...   \n",
       "677      [296, 1230, 350, 1231, 350, 1251, 296, 1251]   \n",
       "678          [296, 389, 376, 389, 376, 409, 296, 409]   \n",
       "679            [985, 55, 1131, 55, 1131, 74, 985, 74]   \n",
       "680  [1107, 1557, 1151, 1557, 1151, 1576, 1107, 1575]   \n",
       "681    [867, 1557, 1109, 1558, 1109, 1573, 867, 1572]   \n",
       "\n",
       "                                               content   0  \n",
       "0           [Conservacion de murcielagos nectarivoros] NaN  \n",
       "1        [Phyllostomidae: Glossophagini) en riesgo en] NaN  \n",
       "2                                [CoahuilayNuevo Leon] NaN  \n",
       "3    [Results: We report six caves used by nectar-f... NaN  \n",
       "4    [The community-based conservation strateqies t... NaN  \n",
       "..                                                 ...  ..  \n",
       "677                                            [b) No] NaN  \n",
       "678                                        [b). No sé] NaN  \n",
       "679                                [Gomez-Ruiz et al.] NaN  \n",
       "680                                              [101] NaN  \n",
       "681                    [www.mastozoologiamexicana.org] NaN  \n",
       "\n",
       "[682 rows x 7 columns]"
      ]
     },
     "execution_count": 24,
     "metadata": {},
     "output_type": "execute_result"
    }
   ],
   "source": [
    "df = pd.DataFrame(data)\n",
    "new_df = df\n",
    "# you could try \n",
    "# col = df.map(type).astype(str).eq(\"<class 'list'>\").all().idxmax()\n",
    "# 'region_poly' would satisfy that condition but doesn't need to be expoloted. Besides, the structure should be stable\n",
    "# Hence: column_names hard-code\n",
    "cols = ['information','text_list']\n",
    "\n",
    "for col in cols:\n",
    "    print(col)\n",
    "    new_df = new_df.explode(col).reset_index(drop=True)\n",
    "    new_df = new_df.drop(columns=[col]).join(new_df[col].apply(pd.Series), rsuffix=f\".{col}\")\n",
    "\n",
    "new_df"
   ]
  },
  {
   "cell_type": "code",
   "execution_count": 25,
   "metadata": {},
   "outputs": [
    {
     "name": "stdout",
     "output_type": "stream",
     "text": [
      "/home/camilo/Documents/01-tutoriales/docxchain/Applications/DocXchain/output/Gómez-Ruiz et al.csv\n"
     ]
    }
   ],
   "source": [
    "file_outout_name = file_name.split(\".\")[0]+\".csv\"\n",
    "print(file_outout_name)\n",
    "new_df.to_csv(file_outout_name, header=True, index=False)"
   ]
  },
  {
   "cell_type": "markdown",
   "metadata": {},
   "source": [
    "### - Paso 3: DataFrame to Document"
   ]
  },
  {
   "cell_type": "code",
   "execution_count": 120,
   "metadata": {},
   "outputs": [
    {
     "data": {
      "text/plain": [
       "array(['title', 'plain text', 'header', 'footnote', 'footer', 'figure',\n",
       "       'page number', 'figure caption', 'table', 'table caption'],\n",
       "      dtype=object)"
      ]
     },
     "execution_count": 120,
     "metadata": {},
     "output_type": "execute_result"
    }
   ],
   "source": [
    "# almost every error comes from not having the right data_type in column content. \n",
    "# It's very convenient to filter out problematic and non relevant categories from the beguinning\n",
    "new_df.category_name.unique()\n",
    "#new_df[new_df.category_name == 'figure']\n",
    "#new_df[new_df.category_name == 'table']\n",
    "#clean_df['content'] = new_df['content'].apply(lambda x: x[0] if isinstance(x,list) else '')\n",
    "#clean_df['content']"
   ]
  },
  {
   "cell_type": "code",
   "execution_count": 32,
   "metadata": {},
   "outputs": [
    {
     "name": "stdout",
     "output_type": "stream",
     "text": [
      "information\n",
      "text_list\n"
     ]
    }
   ],
   "source": [
    "df = pd.DataFrame(data)\n",
    "new_df = df\n",
    "# you could try \n",
    "# col = df.map(type).astype(str).eq(\"<class 'list'>\").all().idxmax()\n",
    "# 'region_poly' would satisfy that condition but doesn't need to be expoloted. Besides, the structure should be stable\n",
    "# Hence: column_names hard-code\n",
    "cols = ['information','text_list']\n",
    "\n",
    "for col in cols:\n",
    "    print(col)\n",
    "    new_df = new_df.explode(col).reset_index(drop=True)\n",
    "    new_df = new_df.drop(columns=[col]).join(new_df[col].apply(pd.Series), rsuffix=f\".{col}\")\n",
    "\n",
    "new_df['content'] = new_df['content'].apply(lambda x: x[0] if isinstance(x,list) else '')\n",
    "new_df['region_poly'] = new_df['region_poly'].apply(lambda x: tuple(x)) # lists are not mutable \n",
    "new_df['content_type'] = new_df['content'].apply(lambda x: type(x).__name__)\n",
    "\n",
    "df_text = new_df[new_df.category_name == 'plain text']\n"
   ]
  },
  {
   "cell_type": "code",
   "execution_count": 33,
   "metadata": {},
   "outputs": [
    {
     "data": {
      "text/html": [
       "<div>\n",
       "<style scoped>\n",
       "    .dataframe tbody tr th:only-of-type {\n",
       "        vertical-align: middle;\n",
       "    }\n",
       "\n",
       "    .dataframe tbody tr th {\n",
       "        vertical-align: top;\n",
       "    }\n",
       "\n",
       "    .dataframe thead th {\n",
       "        text-align: right;\n",
       "    }\n",
       "</style>\n",
       "<table border=\"1\" class=\"dataframe\">\n",
       "  <thead>\n",
       "    <tr style=\"text-align: right;\">\n",
       "      <th></th>\n",
       "      <th>page</th>\n",
       "      <th>region_poly</th>\n",
       "      <th>content</th>\n",
       "    </tr>\n",
       "  </thead>\n",
       "  <tbody>\n",
       "    <tr>\n",
       "      <th>0</th>\n",
       "      <td>0</td>\n",
       "      <td>(143, 169, 472, 169, 472, 234, 143, 234)</td>\n",
       "      <td>Conservation nectar bats (Phyllostomidae:Gloss...</td>\n",
       "    </tr>\n",
       "    <tr>\n",
       "      <th>1</th>\n",
       "      <td>0</td>\n",
       "      <td>(203, 1354, 1099, 1354, 1099, 1395, 203, 1395)</td>\n",
       "      <td>Key words: environmental education, conservati...</td>\n",
       "    </tr>\n",
       "    <tr>\n",
       "      <th>2</th>\n",
       "      <td>0</td>\n",
       "      <td>(205, 1252, 1100, 1252, 1100, 1338, 205, 1338)</td>\n",
       "      <td>Conclusions: We propose a conservation network...</td>\n",
       "    </tr>\n",
       "    <tr>\n",
       "      <th>3</th>\n",
       "      <td>0</td>\n",
       "      <td>(206, 779, 1109, 779, 1109, 984, 206, 984)</td>\n",
       "      <td>Introduction: Cave-dwellinq nectar-feeding bat...</td>\n",
       "    </tr>\n",
       "    <tr>\n",
       "      <th>4</th>\n",
       "      <td>0</td>\n",
       "      <td>(206, 997, 1099, 997, 1099, 1109, 206, 1109)</td>\n",
       "      <td>Material and methods: To document caves used b...</td>\n",
       "    </tr>\n",
       "    <tr>\n",
       "      <th>...</th>\n",
       "      <td>...</td>\n",
       "      <td>...</td>\n",
       "      <td>...</td>\n",
       "    </tr>\n",
       "    <tr>\n",
       "      <th>110</th>\n",
       "      <td>12</td>\n",
       "      <td>(372, 602, 567, 602, 567, 624, 372, 624)</td>\n",
       "      <td>a): Control de plagas</td>\n",
       "    </tr>\n",
       "    <tr>\n",
       "      <th>111</th>\n",
       "      <td>12</td>\n",
       "      <td>(374, 706, 580, 706, 580, 729, 374, 729)</td>\n",
       "      <td>d). Son depredadores</td>\n",
       "    </tr>\n",
       "    <tr>\n",
       "      <th>112</th>\n",
       "      <td>12</td>\n",
       "      <td>(375, 741, 510, 741, 510, 763, 375, 763)</td>\n",
       "      <td>e). Otra: Cuál?</td>\n",
       "    </tr>\n",
       "    <tr>\n",
       "      <th>113</th>\n",
       "      <td>12</td>\n",
       "      <td>(377, 636, 528, 636, 528, 658, 377, 658)</td>\n",
       "      <td>b). Polinizadores</td>\n",
       "    </tr>\n",
       "    <tr>\n",
       "      <th>114</th>\n",
       "      <td>12</td>\n",
       "      <td>(379, 671, 617, 671, 617, 695, 379, 695)</td>\n",
       "      <td>c). Se alimentan de sangre</td>\n",
       "    </tr>\n",
       "  </tbody>\n",
       "</table>\n",
       "<p>115 rows × 3 columns</p>\n",
       "</div>"
      ],
      "text/plain": [
       "     page                                     region_poly  \\\n",
       "0       0        (143, 169, 472, 169, 472, 234, 143, 234)   \n",
       "1       0  (203, 1354, 1099, 1354, 1099, 1395, 203, 1395)   \n",
       "2       0  (205, 1252, 1100, 1252, 1100, 1338, 205, 1338)   \n",
       "3       0      (206, 779, 1109, 779, 1109, 984, 206, 984)   \n",
       "4       0    (206, 997, 1099, 997, 1099, 1109, 206, 1109)   \n",
       "..    ...                                             ...   \n",
       "110    12        (372, 602, 567, 602, 567, 624, 372, 624)   \n",
       "111    12        (374, 706, 580, 706, 580, 729, 374, 729)   \n",
       "112    12        (375, 741, 510, 741, 510, 763, 375, 763)   \n",
       "113    12        (377, 636, 528, 636, 528, 658, 377, 658)   \n",
       "114    12        (379, 671, 617, 671, 617, 695, 379, 695)   \n",
       "\n",
       "                                               content  \n",
       "0    Conservation nectar bats (Phyllostomidae:Gloss...  \n",
       "1    Key words: environmental education, conservati...  \n",
       "2    Conclusions: We propose a conservation network...  \n",
       "3    Introduction: Cave-dwellinq nectar-feeding bat...  \n",
       "4    Material and methods: To document caves used b...  \n",
       "..                                                 ...  \n",
       "110                              a): Control de plagas  \n",
       "111                               d). Son depredadores  \n",
       "112                                    e). Otra: Cuál?  \n",
       "113                                  b). Polinizadores  \n",
       "114                         c). Se alimentan de sangre  \n",
       "\n",
       "[115 rows x 3 columns]"
      ]
     },
     "execution_count": 33,
     "metadata": {},
     "output_type": "execute_result"
    }
   ],
   "source": [
    "aggr_level = ['page', 'region_poly']\n",
    "grouped_df = df_text.groupby(aggr_level)\n",
    "\n",
    "# Concatenate the content of the 'content' column with spaces\n",
    "test = df_text.groupby(aggr_level)['content'].apply(lambda x: ' '.join(x)).reset_index()\n",
    "test"
   ]
  },
  {
   "cell_type": "code",
   "execution_count": 35,
   "metadata": {},
   "outputs": [
    {
     "data": {
      "text/plain": [
       "<bound method DataFrame.to_markdown of      page                                     region_poly  \\\n",
       "0       0        (143, 169, 472, 169, 472, 234, 143, 234)   \n",
       "1       0  (203, 1354, 1099, 1354, 1099, 1395, 203, 1395)   \n",
       "2       0  (205, 1252, 1100, 1252, 1100, 1338, 205, 1338)   \n",
       "3       0      (206, 779, 1109, 779, 1109, 984, 206, 984)   \n",
       "4       0    (206, 997, 1099, 997, 1099, 1109, 206, 1109)   \n",
       "..    ...                                             ...   \n",
       "110    12        (372, 602, 567, 602, 567, 624, 372, 624)   \n",
       "111    12        (374, 706, 580, 706, 580, 729, 374, 729)   \n",
       "112    12        (375, 741, 510, 741, 510, 763, 375, 763)   \n",
       "113    12        (377, 636, 528, 636, 528, 658, 377, 658)   \n",
       "114    12        (379, 671, 617, 671, 617, 695, 379, 695)   \n",
       "\n",
       "                                               content  \n",
       "0    Conservation nectar bats (Phyllostomidae:Gloss...  \n",
       "1    Key words: environmental education, conservati...  \n",
       "2    Conclusions: We propose a conservation network...  \n",
       "3    Introduction: Cave-dwellinq nectar-feeding bat...  \n",
       "4    Material and methods: To document caves used b...  \n",
       "..                                                 ...  \n",
       "110                              a): Control de plagas  \n",
       "111                               d). Son depredadores  \n",
       "112                                    e). Otra: Cuál?  \n",
       "113                                  b). Polinizadores  \n",
       "114                         c). Se alimentan de sangre  \n",
       "\n",
       "[115 rows x 3 columns]>"
      ]
     },
     "execution_count": 35,
     "metadata": {},
     "output_type": "execute_result"
    }
   ],
   "source": [
    "from langchain_core.documents import Document\n",
    "my_doc = Document(page_content=test)\n"
   ]
  },
  {
   "cell_type": "code",
   "execution_count": 37,
   "metadata": {},
   "outputs": [],
   "source": [
    "from langchain_core.documents import Document\n",
    "from pymupdf4llm import to_markdown\n",
    "from pathlib import Path"
   ]
  },
  {
   "cell_type": "code",
   "execution_count": 42,
   "metadata": {},
   "outputs": [
    {
     "ename": "TypeError",
     "evalue": "string indices must be integers",
     "output_type": "error",
     "traceback": [
      "\u001b[0;31m---------------------------------------------------------------------------\u001b[0m",
      "\u001b[0;31mTypeError\u001b[0m                                 Traceback (most recent call last)",
      "Cell \u001b[0;32mIn[42], line 2\u001b[0m\n\u001b[1;32m      1\u001b[0m \u001b[38;5;28;01mfor\u001b[39;00m row \u001b[38;5;129;01min\u001b[39;00m test:\n\u001b[0;32m----> 2\u001b[0m     my_doc \u001b[38;5;241m=\u001b[39m Document(\u001b[43mrow\u001b[49m\u001b[43m[\u001b[49m\u001b[38;5;124;43m\"\u001b[39;49m\u001b[38;5;124;43mcontent\u001b[39;49m\u001b[38;5;124;43m\"\u001b[39;49m\u001b[43m]\u001b[49m)\n",
      "\u001b[0;31mTypeError\u001b[0m: string indices must be integers"
     ]
    }
   ],
   "source": [
    "for row in test:\n",
    "    my_doc = Document(row[\"content\"])"
   ]
  },
  {
   "cell_type": "code",
   "execution_count": null,
   "metadata": {},
   "outputs": [],
   "source": [
    "metadata = dict(\n",
    "                    source= Path(file_name).name,\n",
    "                    species_folder =Path(file_name).parent.name,  \n",
    "                    page = test[\"page\"],\n",
    "                    region_poly = test[\"region_poly\"]\n",
    "                )"
   ]
  },
  {
   "cell_type": "code",
   "execution_count": null,
   "metadata": {},
   "outputs": [],
   "source": []
  }
 ],
 "metadata": {
  "kernelspec": {
   "display_name": "lab-dhX0M-Z2",
   "language": "python",
   "name": "python3"
  },
  "language_info": {
   "codemirror_mode": {
    "name": "ipython",
    "version": 3
   },
   "file_extension": ".py",
   "mimetype": "text/x-python",
   "name": "python",
   "nbconvert_exporter": "python",
   "pygments_lexer": "ipython3",
   "version": "3.10.12"
  }
 },
 "nbformat": 4,
 "nbformat_minor": 2
}
